{
 "cells": [
  {
   "cell_type": "code",
   "execution_count": 4,
   "metadata": {},
   "outputs": [],
   "source": [
    "import json\n",
    "import pandas as pd\n",
    "import numpy as np\n",
    "import matplotlib.pyplot as plt\n",
    "%matplotlib inline\n",
    "import tensorflow as tf\n",
    "import os"
   ]
  },
  {
   "cell_type": "code",
   "execution_count": 2,
   "metadata": {},
   "outputs": [
    {
     "name": "stdout",
     "output_type": "stream",
     "text": [
      "WARNING:tensorflow:From <ipython-input-2-17bb7203622b>:1: is_gpu_available (from tensorflow.python.framework.test_util) is deprecated and will be removed in a future version.\n",
      "Instructions for updating:\n",
      "Use `tf.config.list_physical_devices('GPU')` instead.\n"
     ]
    },
    {
     "data": {
      "text/plain": [
       "False"
      ]
     },
     "execution_count": 2,
     "metadata": {},
     "output_type": "execute_result"
    }
   ],
   "source": [
    "tf.test.is_gpu_available()"
   ]
  },
  {
   "cell_type": "code",
   "execution_count": 3,
   "metadata": {},
   "outputs": [],
   "source": [
    "with open('data/Lyrics_AesopRock.json') as json_data:\n",
    "    data = json.load(json_data)"
   ]
  },
  {
   "cell_type": "code",
   "execution_count": 27,
   "metadata": {},
   "outputs": [],
   "source": [
    "# List of songs with duplicate content but different titles\n",
    "songs_to_remove = ['Странные люди (Strange people)', 'Странные люди (Strange people) (2nd version)', \n",
    "                   'Zero Dark Thirty Single Art', 'The Tugboat Complex Pt. 3', \n",
    "                   'Orphanage Freestyle Part 1 (Atmosphere Freestyle)', 'One of Four (Thank You)',\n",
    "                  'Cycles To Gehenna (Zavala Remix)', 'Coffee', '11:35 (feat. Mr. Lif) / Ketamine U.S.A. Interlude']\n",
    "\n",
    "song_counter = 0\n",
    "for song in data['songs']:\n",
    "    lyrics = song['lyrics']\n",
    "    title = song['title']\n",
    "    if title not in songs_to_remove:\n",
    "        song_filename = \"aesop_rock_{}.txt\".format(song_counter)\n",
    "        file_path = 'data/' + song_filename\n",
    "        \n",
    "\n",
    "        \n",
    "        # write each song to a text file, including title at the top in a way that's easy to identify and remove later\n",
    "        with open(file_path, 'w') as f:\n",
    "            file_text = \"[Song Title] {} \\n\\n {}\".format(title, lyrics)\n",
    "            f.write(file_text)\n",
    "        \n",
    "        song_counter += 1"
   ]
  },
  {
   "cell_type": "code",
   "execution_count": null,
   "metadata": {},
   "outputs": [],
   "source": []
  },
  {
   "cell_type": "code",
   "execution_count": 24,
   "metadata": {},
   "outputs": [],
   "source": []
  },
  {
   "cell_type": "code",
   "execution_count": null,
   "metadata": {},
   "outputs": [],
   "source": []
  }
 ],
 "metadata": {
  "kernelspec": {
   "display_name": "Python 3",
   "language": "python",
   "name": "python3"
  },
  "language_info": {
   "codemirror_mode": {
    "name": "ipython",
    "version": 3
   },
   "file_extension": ".py",
   "mimetype": "text/x-python",
   "name": "python",
   "nbconvert_exporter": "python",
   "pygments_lexer": "ipython3",
   "version": "3.8.5"
  }
 },
 "nbformat": 4,
 "nbformat_minor": 4
}
